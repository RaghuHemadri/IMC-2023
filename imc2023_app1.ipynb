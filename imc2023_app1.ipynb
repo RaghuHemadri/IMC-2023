{
 "cells": [
  {
   "cell_type": "code",
   "execution_count": 1,
   "id": "a2e7dc2b",
   "metadata": {
    "execution": {
     "iopub.execute_input": "2023-05-15T05:06:28.199995Z",
     "iopub.status.busy": "2023-05-15T05:06:28.199582Z",
     "iopub.status.idle": "2023-05-15T05:06:31.862648Z",
     "shell.execute_reply": "2023-05-15T05:06:31.861690Z"
    },
    "papermill": {
     "duration": 3.672606,
     "end_time": "2023-05-15T05:06:31.865201",
     "exception": false,
     "start_time": "2023-05-15T05:06:28.192595",
     "status": "completed"
    },
    "tags": []
   },
   "outputs": [],
   "source": [
    "import os\n",
    "import pandas as pd\n",
    "import numpy as np\n",
    "import torch\n",
    "from torch.utils.data import Dataset, DataLoader\n",
    "from torchvision import transforms\n",
    "import torch.nn as nn\n",
    "import torch.optim as optim\n",
    "from PIL import Image\n",
    "from torchvision.models import resnet18\n",
    "import glob\n",
    "import gc\n",
    "from torch.cuda.amp import autocast, GradScaler"
   ]
  },
  {
   "cell_type": "code",
   "execution_count": 2,
   "id": "e310e268",
   "metadata": {
    "execution": {
     "iopub.execute_input": "2023-05-15T05:06:31.874238Z",
     "iopub.status.busy": "2023-05-15T05:06:31.873379Z",
     "iopub.status.idle": "2023-05-15T05:06:31.879149Z",
     "shell.execute_reply": "2023-05-15T05:06:31.878386Z"
    },
    "papermill": {
     "duration": 0.01199,
     "end_time": "2023-05-15T05:06:31.881093",
     "exception": false,
     "start_time": "2023-05-15T05:06:31.869103",
     "status": "completed"
    },
    "tags": []
   },
   "outputs": [],
   "source": [
    "def arr_to_str(a):\n",
    "    return ';'.join([str(x) for x in a.reshape(-1)])\n",
    "\n",
    "src = '/kaggle/input/image-matching-challenge-2023'\n",
    "is_train = False"
   ]
  },
  {
   "cell_type": "code",
   "execution_count": 3,
   "id": "f5cdfb90",
   "metadata": {
    "execution": {
     "iopub.execute_input": "2023-05-15T05:06:31.888990Z",
     "iopub.status.busy": "2023-05-15T05:06:31.888714Z",
     "iopub.status.idle": "2023-05-15T05:06:31.898984Z",
     "shell.execute_reply": "2023-05-15T05:06:31.898186Z"
    },
    "papermill": {
     "duration": 0.01656,
     "end_time": "2023-05-15T05:06:31.900936",
     "exception": false,
     "start_time": "2023-05-15T05:06:31.884376",
     "status": "completed"
    },
    "tags": []
   },
   "outputs": [],
   "source": [
    "# Get data from csv.\n",
    "\n",
    "data_dict = {}\n",
    "with open(f'{src}/sample_submission.csv', 'r') as f:\n",
    "    for i, l in enumerate(f):\n",
    "        # Skip header.\n",
    "        if l and i > 0:\n",
    "            image, dataset, scene, _, _ = l.strip().split(',')\n",
    "            if dataset not in data_dict:\n",
    "                data_dict[dataset] = {}\n",
    "            if scene not in data_dict[dataset]:\n",
    "                data_dict[dataset][scene] = []\n",
    "            data_dict[dataset][scene].append(image)"
   ]
  },
  {
   "cell_type": "code",
   "execution_count": 4,
   "id": "3fbb5823",
   "metadata": {
    "execution": {
     "iopub.execute_input": "2023-05-15T05:06:31.908868Z",
     "iopub.status.busy": "2023-05-15T05:06:31.908582Z",
     "iopub.status.idle": "2023-05-15T05:06:31.915096Z",
     "shell.execute_reply": "2023-05-15T05:06:31.913788Z"
    },
    "papermill": {
     "duration": 0.01275,
     "end_time": "2023-05-15T05:06:31.917161",
     "exception": false,
     "start_time": "2023-05-15T05:06:31.904411",
     "status": "completed"
    },
    "tags": []
   },
   "outputs": [
    {
     "name": "stdout",
     "output_type": "stream",
     "text": [
      "2cfa01ab573141e4 / 2fa124afd1f74f38 -> 3 images\n"
     ]
    }
   ],
   "source": [
    "for dataset in data_dict:\n",
    "    for scene in data_dict[dataset]:\n",
    "        print(f'{dataset} / {scene} -> {len(data_dict[dataset][scene])} images')"
   ]
  },
  {
   "cell_type": "code",
   "execution_count": 5,
   "id": "c83f99e9",
   "metadata": {
    "execution": {
     "iopub.execute_input": "2023-05-15T05:06:31.925254Z",
     "iopub.status.busy": "2023-05-15T05:06:31.924656Z",
     "iopub.status.idle": "2023-05-15T05:06:31.932914Z",
     "shell.execute_reply": "2023-05-15T05:06:31.932047Z"
    },
    "papermill": {
     "duration": 0.014373,
     "end_time": "2023-05-15T05:06:31.934909",
     "exception": false,
     "start_time": "2023-05-15T05:06:31.920536",
     "status": "completed"
    },
    "tags": []
   },
   "outputs": [],
   "source": [
    "# Function to create a submission file.\n",
    "def create_submission(out_results, data_dict):\n",
    "    with open(f'submission.csv', 'w') as f:\n",
    "        f.write('image_path,dataset,scene,rotation_matrix,translation_vector\\n')\n",
    "        for dataset in data_dict:\n",
    "            if dataset in out_results:\n",
    "                res = out_results[dataset]\n",
    "            else:\n",
    "                res = {}\n",
    "            for scene in data_dict[dataset]:\n",
    "                if scene in res:\n",
    "                    scene_res = res[scene]\n",
    "                else:\n",
    "                    scene_res = {\"R\":{}, \"t\":{}}\n",
    "                for image in data_dict[dataset][scene]:\n",
    "                    if image in scene_res:\n",
    "                        print (image)\n",
    "                        R = scene_res[image]['R'].reshape(-1)\n",
    "                        T = scene_res[image]['t'].reshape(-1)\n",
    "                    else:\n",
    "                        R = np.eye(3).reshape(-1)\n",
    "                        T = np.zeros((3))\n",
    "                    f.write(f'{image},{dataset},{scene},{arr_to_str(R)},{arr_to_str(T)}\\n')"
   ]
  },
  {
   "cell_type": "code",
   "execution_count": 6,
   "id": "81a9bd0b",
   "metadata": {
    "execution": {
     "iopub.execute_input": "2023-05-15T05:06:31.943173Z",
     "iopub.status.busy": "2023-05-15T05:06:31.942622Z",
     "iopub.status.idle": "2023-05-15T05:06:31.972428Z",
     "shell.execute_reply": "2023-05-15T05:06:31.971449Z"
    },
    "papermill": {
     "duration": 0.035942,
     "end_time": "2023-05-15T05:06:31.974459",
     "exception": false,
     "start_time": "2023-05-15T05:06:31.938517",
     "status": "completed"
    },
    "tags": []
   },
   "outputs": [],
   "source": [
    "train_base = os.path.join(src, \"train\")\n",
    "class CustomDataset(Dataset):\n",
    "    def __init__(self, csv_file, transform=None):\n",
    "        self.data_frame = pd.read_csv(csv_file)\n",
    "        self.transform = transform\n",
    "        \n",
    "    def __len__(self):\n",
    "        return len(self.data_frame)\n",
    "    \n",
    "    def __getitem__(self, idx):\n",
    "        img_path = os.path.join(train_base, self.data_frame.loc[idx, 'image_path'])\n",
    "        img = Image.open(img_path).convert('RGB')\n",
    "        rot_mat = np.fromstring(self.data_frame.loc[idx, 'rotation_matrix'], sep=';').reshape(3, 3)\n",
    "        trans_vec = np.fromstring(self.data_frame.loc[idx, 'translation_vector'], sep=';')\n",
    "        sample = {'image': img, 'rot_mat': rot_mat, 'trans_vec': trans_vec}\n",
    "        if self.transform:\n",
    "            sample['image'] = self.transform(sample['image'])\n",
    "        return sample\n",
    "\n",
    "transform = transforms.Compose([\n",
    "    transforms.Resize((256, 256)),\n",
    "    transforms.ToTensor(),\n",
    "    transforms.Normalize(mean=[0.485, 0.456, 0.406],\n",
    "                         std=[0.229, 0.224, 0.225])\n",
    "])\n",
    "\n",
    "dataset = CustomDataset(csv_file=os.path.join(train_base, 'train_labels.csv'), transform=transform)\n",
    "dataloader = DataLoader(dataset, batch_size=32, shuffle=True)\n"
   ]
  },
  {
   "cell_type": "code",
   "execution_count": 7,
   "id": "c71758e3",
   "metadata": {
    "execution": {
     "iopub.execute_input": "2023-05-15T05:06:31.983082Z",
     "iopub.status.busy": "2023-05-15T05:06:31.982340Z",
     "iopub.status.idle": "2023-05-15T05:06:35.919481Z",
     "shell.execute_reply": "2023-05-15T05:06:35.918502Z"
    },
    "papermill": {
     "duration": 3.943922,
     "end_time": "2023-05-15T05:06:35.921969",
     "exception": false,
     "start_time": "2023-05-15T05:06:31.978047",
     "status": "completed"
    },
    "tags": []
   },
   "outputs": [
    {
     "name": "stderr",
     "output_type": "stream",
     "text": [
      "/opt/conda/lib/python3.10/site-packages/torchvision/models/_utils.py:208: UserWarning: The parameter 'pretrained' is deprecated since 0.13 and may be removed in the future, please use 'weights' instead.\n",
      "  warnings.warn(\n",
      "/opt/conda/lib/python3.10/site-packages/torchvision/models/_utils.py:223: UserWarning: Arguments other than a weight enum or `None` for 'weights' are deprecated since 0.13 and may be removed in the future. The current behavior is equivalent to passing `weights=None`.\n",
      "  warnings.warn(msg)\n"
     ]
    },
    {
     "name": "stdout",
     "output_type": "stream",
     "text": [
      "Using device: cuda\n"
     ]
    }
   ],
   "source": [
    "# Define the MyModel model\n",
    "class MyModel(nn.Module):\n",
    "    def __init__(self):\n",
    "        super(MyModel, self).__init__()\n",
    "        try:\n",
    "            backbone = resnet18(pretrained=False)\n",
    "        except:\n",
    "            backbone = resnet18(pretrained=False)\n",
    "            backbone.load_state_dict(torch.load('/kaggle/input/trained-models/resnet18_weights.pth'))\n",
    "        self.backbone = backbone\n",
    "        self.fc1 = nn.Linear(512, 128)\n",
    "        self.fc2 = nn.Linear(128, 12)\n",
    "\n",
    "    def forward(self, x):\n",
    "        x = self.backbone.conv1(x)\n",
    "        x = self.backbone.bn1(x)\n",
    "        x = self.backbone.relu(x)\n",
    "        x = self.backbone.maxpool(x)\n",
    "\n",
    "        x = self.backbone.layer1(x)\n",
    "        x = self.backbone.layer2(x)\n",
    "        x = self.backbone.layer3(x)\n",
    "        x = self.backbone.layer4(x)\n",
    "\n",
    "        x = self.backbone.avgpool(x)\n",
    "        x = torch.flatten(x, 1)\n",
    "\n",
    "        x = self.fc1(x)\n",
    "        x = self.fc2(x)\n",
    "\n",
    "        return x\n",
    "    \n",
    "# Initialize the model, loss function, and optimizer\n",
    "num_epochs = 50\n",
    "model = MyModel()\n",
    "\n",
    "device = torch.device('cuda' if torch.cuda.is_available() else 'cpu')\n",
    "print('Using device:', device)\n",
    "if torch.cuda.device_count() > 1:\n",
    "    print('Using', torch.cuda.device_count(), 'GPUs')\n",
    "    model = nn.DataParallel(model)\n",
    "model.to(device)\n",
    "\n",
    "if is_train:\n",
    "    criterion = nn.MSELoss()\n",
    "    optimizer = optim.Adam(model.parameters(), lr=0.001)\n",
    "    scaler = GradScaler()\n",
    "\n",
    "    # Train the model\n",
    "    for epoch in range(num_epochs):\n",
    "        running_loss = 0.0\n",
    "        for i, batch in enumerate(dataloader):\n",
    "            # Get the inputs and labels\n",
    "            images, rot_mats, trans_vecs = batch['image'], batch['rot_mat'], batch['trans_vec']\n",
    "            images, rot_mats, trans_vecs = images.float().to(device), rot_mats.float().to(device), trans_vecs.float().to(device)\n",
    "\n",
    "            # Zero the parameter gradients\n",
    "            optimizer.zero_grad()\n",
    "\n",
    "            with autocast():\n",
    "                outputs = model(images)\n",
    "                outputs = outputs.view(-1, 3, 4)\n",
    "                rot_mats_pred = outputs[:, :3, :3]\n",
    "                trans_vecs_pred = outputs[:, :3, 3]\n",
    "                loss = criterion(rot_mats_pred, rot_mats) + criterion(trans_vecs_pred, trans_vecs)\n",
    "\n",
    "            scaler.scale(loss).backward()\n",
    "            scaler.step(optimizer)\n",
    "            scaler.update()\n",
    "\n",
    "            # Print statistics\n",
    "            running_loss += loss.item()\n",
    "            if i % 10 == 0:\n",
    "                print(f'Epoch {epoch + 1}, Batch {i + 1}: Loss = {running_loss / 10}')\n",
    "                running_loss = 0.0\n",
    "#     torch.save(model.state_dict(), 'model.pth')\n",
    "else:\n",
    "    model.load_state_dict(torch.load('/kaggle/input/trained-models/model.pth'))"
   ]
  },
  {
   "cell_type": "code",
   "execution_count": 8,
   "id": "60c579e3",
   "metadata": {
    "execution": {
     "iopub.execute_input": "2023-05-15T05:06:35.932890Z",
     "iopub.status.busy": "2023-05-15T05:06:35.930742Z",
     "iopub.status.idle": "2023-05-15T05:06:35.939979Z",
     "shell.execute_reply": "2023-05-15T05:06:35.939081Z"
    },
    "papermill": {
     "duration": 0.015985,
     "end_time": "2023-05-15T05:06:35.941935",
     "exception": false,
     "start_time": "2023-05-15T05:06:35.925950",
     "status": "completed"
    },
    "tags": []
   },
   "outputs": [],
   "source": [
    "def predict(model, image_path):\n",
    "    device = torch.device('cuda' if torch.cuda.is_available() else 'cpu')\n",
    "    model.eval()\n",
    "    image = Image.open(image_path)\n",
    "    transform = transforms.Compose([\n",
    "        transforms.Resize((256, 256)),\n",
    "        transforms.ToTensor(),\n",
    "        transforms.Normalize(mean=[0.485, 0.456, 0.406],\n",
    "                            std=[0.229, 0.224, 0.225])\n",
    "    ])\n",
    "\n",
    "    with torch.no_grad():\n",
    "        image = transform(image).unsqueeze(0).to(device)\n",
    "\n",
    "        output = model(image).detach().cpu()[0]\n",
    "        output = output.view(3, 4)\n",
    "        rot_mats_pred = output[:3, :3].numpy()\n",
    "        trans_vecs_pred = output[:3, 3].numpy()\n",
    "\n",
    "    return rot_mats_pred, trans_vecs_pred"
   ]
  },
  {
   "cell_type": "code",
   "execution_count": 9,
   "id": "c51e6bc7",
   "metadata": {
    "execution": {
     "iopub.execute_input": "2023-05-15T05:06:35.951003Z",
     "iopub.status.busy": "2023-05-15T05:06:35.950220Z",
     "iopub.status.idle": "2023-05-15T05:06:35.962385Z",
     "shell.execute_reply": "2023-05-15T05:06:35.961502Z"
    },
    "papermill": {
     "duration": 0.018611,
     "end_time": "2023-05-15T05:06:35.964325",
     "exception": false,
     "start_time": "2023-05-15T05:06:35.945714",
     "status": "completed"
    },
    "tags": []
   },
   "outputs": [
    {
     "name": "stdout",
     "output_type": "stream",
     "text": [
      "2cfa01ab573141e4\n",
      "2fa124afd1f74f38\n"
     ]
    }
   ],
   "source": [
    "datasets = []\n",
    "out_results = {}\n",
    "for dataset in data_dict:\n",
    "    datasets.append(dataset)\n",
    "\n",
    "for dataset in datasets:\n",
    "    print(dataset)\n",
    "    if dataset not in out_results:\n",
    "        out_results[dataset] = {}\n",
    "    for scene in data_dict[dataset]:\n",
    "        print(scene)\n",
    "        # Fail gently if the notebook has not been submitted and the test data is not populated.\n",
    "        # You may want to run this on the training data in that case?\n",
    "        img_dir = f'{src}/test/{dataset}/{scene}/images'\n",
    "        # img_dir = f'{src}/train/{dataset}/{scene}/images'\n",
    "        if not os.path.exists(img_dir):\n",
    "            continue\n",
    "        # Wrap the meaty part in a try-except block.\n",
    "        try:\n",
    "            out_results[dataset][scene] = {}\n",
    "            img_fnames = [f'{src}/test/{x}' for x in data_dict[dataset][scene]]\n",
    "            # img_fnames = [img.replace('test', 'train') for img in img_fnames]\n",
    "            print (f\"Got {len(img_fnames)} images\")\n",
    "\n",
    "            for i in range(len(img_fnames)):\n",
    "                key1 = f'{dataset}/{scene}/images/{img_fnames[i]}'\n",
    "                r, t = predict(model, key1)\n",
    "                out_results[dataset][scene][key1] = {}\n",
    "                out_results[dataset][scene][key1][\"R\"] = r\n",
    "                out_results[dataset][scene][key1][\"t\"] = t\n",
    "\n",
    "            create_submission(out_results, data_dict)\n",
    "            gc.collect()\n",
    "        except:\n",
    "            pass"
   ]
  },
  {
   "cell_type": "code",
   "execution_count": 10,
   "id": "c8a3f24f",
   "metadata": {
    "execution": {
     "iopub.execute_input": "2023-05-15T05:06:35.973190Z",
     "iopub.status.busy": "2023-05-15T05:06:35.972487Z",
     "iopub.status.idle": "2023-05-15T05:06:35.977147Z",
     "shell.execute_reply": "2023-05-15T05:06:35.976272Z"
    },
    "papermill": {
     "duration": 0.01096,
     "end_time": "2023-05-15T05:06:35.979044",
     "exception": false,
     "start_time": "2023-05-15T05:06:35.968084",
     "status": "completed"
    },
    "tags": []
   },
   "outputs": [],
   "source": [
    "create_submission(out_results, data_dict)"
   ]
  }
 ],
 "metadata": {
  "kernelspec": {
   "display_name": "Python 3",
   "language": "python",
   "name": "python3"
  },
  "language_info": {
   "codemirror_mode": {
    "name": "ipython",
    "version": 3
   },
   "file_extension": ".py",
   "mimetype": "text/x-python",
   "name": "python",
   "nbconvert_exporter": "python",
   "pygments_lexer": "ipython3",
   "version": "3.10.10"
  },
  "papermill": {
   "default_parameters": {},
   "duration": 19.63016,
   "end_time": "2023-05-15T05:06:37.403911",
   "environment_variables": {},
   "exception": null,
   "input_path": "__notebook__.ipynb",
   "output_path": "__notebook__.ipynb",
   "parameters": {},
   "start_time": "2023-05-15T05:06:17.773751",
   "version": "2.4.0"
  }
 },
 "nbformat": 4,
 "nbformat_minor": 5
}
